{
 "cells": [
  {
   "cell_type": "markdown",
   "metadata": {},
   "source": [
    "# KASPI BANK TASK 1 SOLUTION"
   ]
  },
  {
   "cell_type": "markdown",
   "metadata": {},
   "source": [
    "Importing all needed libraries"
   ]
  },
  {
   "cell_type": "code",
   "execution_count": 1,
   "metadata": {},
   "outputs": [],
   "source": [
    "import numpy as np\n",
    "import pandas as pd\n",
    "import matplotlib.pyplot as plt\n",
    "from sklearn.preprocessing import MinMaxScaler, StandardScaler"
   ]
  },
  {
   "cell_type": "code",
   "execution_count": 2,
   "metadata": {},
   "outputs": [],
   "source": [
    "file_name = 'task1.xlsx'\n",
    "xl = pd.ExcelFile(file_name)"
   ]
  },
  {
   "cell_type": "code",
   "execution_count": 3,
   "metadata": {},
   "outputs": [],
   "source": [
    "TRAIN_SHEET = xl.parse('TRAIN')\n",
    "TEST_SHEET = xl.parse('TEST')"
   ]
  },
  {
   "cell_type": "code",
   "execution_count": 4,
   "metadata": {},
   "outputs": [
    {
     "name": "stdout",
     "output_type": "stream",
     "text": [
      "(6000, 17)\n",
      "(3249, 16)\n",
      "   ID  YEAR VIN_1 VIN_2 VIN_3  VIN_15  VIN_16  VIN_17  ENGINE_VOLUME  \\\n",
      "0   0     9     J     M     Y     1.0     0.0     2.0            3.0   \n",
      "1   1    10     N     M     T     1.0     8.0     0.0            1.6   \n",
      "\n",
      "    FUEL_TYPE    BODY_TYPE    TYPE_OF_DRIVE INTERIOR_TYPE TRANSM_TYPE  \\\n",
      "0  Бензин-Газ  Внедорожник    Полный привод          КОЖА        АКПП   \n",
      "1      Бензин        Седан  Передний привод         ВЕЛЮР        МКПП   \n",
      "\n",
      "       AUTO_CONDITION     AVG_COST  ESTIM_COST  \n",
      "0  Удовлетворительное  5725925.926     4688000  \n",
      "1  Удовлетворительное  2211538.462     1853000  \n",
      "      ID  YEAR VIN_1 VIN_2 VIN_3  VIN_15  VIN_16  VIN_17  ENGINE_VOLUME  \\\n",
      "0  10000    13     J     M     Z     1.0     6.0     6.0            2.0   \n",
      "1  10001    10     J     T     M     1.0     6.0     4.0            2.4   \n",
      "\n",
      "  FUEL_TYPE  BODY_TYPE    TYPE_OF_DRIVE INTERIOR_TYPE TRANSM_TYPE  \\\n",
      "0    Бензин    Минивэн  Передний привод         ВЕЛЮР        АКПП   \n",
      "1    Бензин  Кроссовер    Полный привод         ВЕЛЮР        АКПП   \n",
      "\n",
      "       AUTO_CONDITION     AVG_COST  \n",
      "0  Удовлетворительное  1734883.721  \n",
      "1  Удовлетворительное  4315384.615  \n"
     ]
    }
   ],
   "source": [
    "print(TRAIN_SHEET.shape)\n",
    "print(TEST_SHEET.shape)\n",
    "print(TRAIN_SHEET.head(2))\n",
    "print(TEST_SHEET.head(2))"
   ]
  },
  {
   "cell_type": "code",
   "execution_count": 5,
   "metadata": {},
   "outputs": [
    {
     "name": "stdout",
     "output_type": "stream",
     "text": [
      "6000\n",
      "3249\n"
     ]
    }
   ],
   "source": [
    "trainLength = len(TRAIN_SHEET['ID'])\n",
    "testLength = len(TEST_SHEET['ID'])\n",
    "print(trainLength)\n",
    "print(testLength)"
   ]
  },
  {
   "cell_type": "code",
   "execution_count": 6,
   "metadata": {},
   "outputs": [
    {
     "name": "stdout",
     "output_type": "stream",
     "text": [
      "      ID  YEAR VIN_1 VIN_2 VIN_3  VIN_15  VIN_16  VIN_17  ENGINE_VOLUME  \\\n",
      "0  10000    13     J     M     Z     1.0     6.0     6.0            2.0   \n",
      "1  10001    10     J     T     M     1.0     6.0     4.0            2.4   \n",
      "2  10002     5     K     M     H     0.0     4.0     7.0            2.0   \n",
      "\n",
      "    FUEL_TYPE  BODY_TYPE    TYPE_OF_DRIVE    INTERIOR_TYPE TRANSM_TYPE  \\\n",
      "0      Бензин    Минивэн  Передний привод            ВЕЛЮР        АКПП   \n",
      "1      Бензин  Кроссовер    Полный привод            ВЕЛЮР        АКПП   \n",
      "2  Бензин-Газ  Кроссовер    Полный привод  КОМБИНИРОВАННЫЙ        АКПП   \n",
      "\n",
      "       AUTO_CONDITION     AVG_COST  ESTIM_COST  \n",
      "0  Удовлетворительное  1734883.721   -1.007219  \n",
      "1  Удовлетворительное  4315384.615    0.457525  \n",
      "2  Удовлетворительное  5110810.811    0.601783  \n"
     ]
    }
   ],
   "source": [
    "TEST_SHEET['ESTIM_COST'] = pd.Series(np.random.randn(testLength), index=TEST_SHEET.index)\n",
    "print(TEST_SHEET.head(3))"
   ]
  },
  {
   "cell_type": "code",
   "execution_count": 7,
   "metadata": {},
   "outputs": [
    {
     "name": "stdout",
     "output_type": "stream",
     "text": [
      "   ID  YEAR VIN_1 VIN_2 VIN_3  VIN_15  VIN_16  VIN_17  ENGINE_VOLUME  \\\n",
      "0   0     9     J     M     Y     1.0     0.0     2.0            3.0   \n",
      "1   1    10     N     M     T     1.0     8.0     0.0            1.6   \n",
      "2   2    17     W     A     U     8.0     9.0     7.0            2.4   \n",
      "3   3     4     K     M     H     9.0     1.0     8.0            1.6   \n",
      "4   4    17     J     A     4     4.0     3.0     1.0            3.0   \n",
      "\n",
      "    FUEL_TYPE    BODY_TYPE    TYPE_OF_DRIVE INTERIOR_TYPE TRANSM_TYPE  \\\n",
      "0  Бензин-Газ  Внедорожник    Полный привод          КОЖА        АКПП   \n",
      "1      Бензин        Седан  Передний привод         ВЕЛЮР        МКПП   \n",
      "2      Бензин        Седан  Передний привод         ВЕЛЮР        АКПП   \n",
      "3      Бензин        Седан  Передний привод         ВЕЛЮР        АКПП   \n",
      "4      Бензин  Внедорожник    Полный привод          КОЖА        АКПП   \n",
      "\n",
      "       AUTO_CONDITION     AVG_COST  ESTIM_COST  \n",
      "0  Удовлетворительное  5725925.926   4688000.0  \n",
      "1  Удовлетворительное  2211538.462   1853000.0  \n",
      "2  Удовлетворительное  1260975.610   1000000.0  \n",
      "3            Отличное  3287777.778   3150000.0  \n",
      "4  Удовлетворительное  2028915.663   1603000.0  \n"
     ]
    }
   ],
   "source": [
    "MAIN_DATA = pd.concat([TRAIN_SHEET, TEST_SHEET], ignore_index=True)\n",
    "print(MAIN_DATA.head())"
   ]
  },
  {
   "cell_type": "code",
   "execution_count": 8,
   "metadata": {},
   "outputs": [],
   "source": [
    "MAIN_DATA[MAIN_DATA.select_dtypes(['object']).columns] = MAIN_DATA.select_dtypes(['object']).apply(lambda x: x.astype('category'))\n",
    "cat_columns = MAIN_DATA.select_dtypes(['category']).columns\n",
    "MAIN_DATA[cat_columns] = MAIN_DATA[cat_columns].apply(lambda x: x.cat.codes)\n",
    "DATA = MAIN_DATA.fillna(MAIN_DATA.mean())"
   ]
  },
  {
   "cell_type": "code",
   "execution_count": 33,
   "metadata": {},
   "outputs": [],
   "source": [
    "TRAIN_DATA = DATA[:(trainLength)]\n",
    "TRAIN_DATA = TRAIN_DATA.drop('ID', axis = True)\n",
    "\n",
    "TEST_DATA = DATA[trainLength:]\n",
    "TEST_MAIN_DATA = TEST_DATA[[\"AVG_COST\"]]"
   ]
  },
  {
   "cell_type": "code",
   "execution_count": 10,
   "metadata": {},
   "outputs": [
    {
     "name": "stdout",
     "output_type": "stream",
     "text": [
      "(6000, 16)\n",
      "(3249, 17)\n",
      "   YEAR  VIN_1  VIN_2  VIN_3  VIN_15  VIN_16  VIN_17  ENGINE_VOLUME  \\\n",
      "0     9     10     17     31     1.0     0.0     2.0            3.0   \n",
      "1    10     14     17     26     1.0     8.0     0.0            1.6   \n",
      "\n",
      "   FUEL_TYPE  BODY_TYPE  TYPE_OF_DRIVE  INTERIOR_TYPE  TRANSM_TYPE  \\\n",
      "0          1          0              2              1            0   \n",
      "1          0          4              1              0            1   \n",
      "\n",
      "   AUTO_CONDITION     AVG_COST  ESTIM_COST  \n",
      "0               1  5725925.926   4688000.0  \n",
      "1               1  2211538.462   1853000.0  \n",
      "         ID  YEAR  VIN_1  VIN_2  VIN_3  VIN_15  VIN_16  VIN_17  ENGINE_VOLUME  \\\n",
      "6000  10000    13     10     17     32     1.0     6.0     6.0            2.0   \n",
      "6001  10001    10     10     23     20     1.0     6.0     4.0            2.4   \n",
      "\n",
      "      FUEL_TYPE  BODY_TYPE  TYPE_OF_DRIVE  INTERIOR_TYPE  TRANSM_TYPE  \\\n",
      "6000          0          2              1              0            0   \n",
      "6001          0          1              2              0            0   \n",
      "\n",
      "      AUTO_CONDITION     AVG_COST  ESTIM_COST  \n",
      "6000               1  1734883.721   -1.007219  \n",
      "6001               1  4315384.615    0.457525  \n"
     ]
    }
   ],
   "source": [
    "print(TRAIN_DATA.shape)\n",
    "print(TEST_DATA.shape)\n",
    "print(TRAIN_DATA.head(2))\n",
    "print(TEST_DATA.head(2))"
   ]
  },
  {
   "cell_type": "code",
   "execution_count": 19,
   "metadata": {},
   "outputs": [
    {
     "name": "stdout",
     "output_type": "stream",
     "text": [
      "(6000, 1)\n",
      "(6000, 1)\n"
     ]
    }
   ],
   "source": [
    "\n",
    "X_train = TRAIN_DATA[[\"AVG_COST\"]]\n",
    "Y_train = TRAIN_DATA[[\"ESTIM_COST\"]]\n",
    "scaler = MinMaxScaler()\n",
    "scaler.fit(X_train)\n",
    "my_scaler = MinMaxScaler()\n",
    "my_scaler.fit(Y_train)\n",
    "\n",
    "print(X_train.shape)\n",
    "print(Y_train.shape)"
   ]
  },
  {
   "cell_type": "code",
   "execution_count": 21,
   "metadata": {},
   "outputs": [],
   "source": [
    "# X_norm_train = (X_train - X_train.mean()) / (X_train.max() - X_train.min())\n",
    "# Y_norm_train = (Y_train - Y_train.mean()) / (Y_train.max() - Y_train.min())\n",
    "X_norm_train =  scaler.transform(X_train)\n",
    "Y_norm_train = my_scaler.transform(Y_train)"
   ]
  },
  {
   "cell_type": "code",
   "execution_count": 16,
   "metadata": {},
   "outputs": [],
   "source": [
    "from __future__ import print_function\n",
    "from itertools import count\n",
    "\n",
    "import torch\n",
    "from torch import nn\n",
    "import torch.autograd\n",
    "import torch.nn.functional as F\n",
    "from torch.autograd import Variable\n",
    "from torch import optim"
   ]
  },
  {
   "cell_type": "code",
   "execution_count": 22,
   "metadata": {},
   "outputs": [],
   "source": [
    "x_train = torch.FloatTensor(X_norm_train)\n",
    "y_train = torch.FloatTensor(Y_norm_train)"
   ]
  },
  {
   "cell_type": "code",
   "execution_count": 23,
   "metadata": {},
   "outputs": [],
   "source": [
    "# Linear Regression Model\n",
    "class LinearRegression(nn.Module):\n",
    "    def __init__(self):\n",
    "        super(LinearRegression, self).__init__()\n",
    "        self.linear = nn.Linear(1, 1)  # input and output is 1 dimension\n",
    "\n",
    "    def forward(self, x):\n",
    "        out = self.linear(x)\n",
    "        return out"
   ]
  },
  {
   "cell_type": "code",
   "execution_count": 24,
   "metadata": {},
   "outputs": [],
   "source": [
    "model = LinearRegression()\n",
    "criterion = nn.MSELoss()\n",
    "optimizer = optim.SGD(model.parameters(), lr=1e-4)"
   ]
  },
  {
   "cell_type": "code",
   "execution_count": 25,
   "metadata": {},
   "outputs": [
    {
     "name": "stdout",
     "output_type": "stream",
     "text": [
      "Epoch[100000/3000000], loss: 0.015623\n",
      "Epoch[200000/3000000], loss: 0.010940\n",
      "Epoch[300000/3000000], loss: 0.007679\n",
      "Epoch[400000/3000000], loss: 0.005409\n",
      "Epoch[500000/3000000], loss: 0.003828\n",
      "Epoch[600000/3000000], loss: 0.002727\n",
      "Epoch[700000/3000000], loss: 0.001960\n",
      "Epoch[800000/3000000], loss: 0.001428\n",
      "Epoch[900000/3000000], loss: 0.001056\n",
      "Epoch[1000000/3000000], loss: 0.000797\n",
      "Epoch[1100000/3000000], loss: 0.000617\n",
      "Epoch[1200000/3000000], loss: 0.000492\n",
      "Epoch[1300000/3000000], loss: 0.000404\n",
      "Epoch[1400000/3000000], loss: 0.000344\n",
      "Epoch[1500000/3000000], loss: 0.000302\n",
      "Epoch[1600000/3000000], loss: 0.000271\n",
      "Epoch[1700000/3000000], loss: 0.000252\n",
      "Epoch[1800000/3000000], loss: 0.000238\n",
      "Epoch[1900000/3000000], loss: 0.000226\n",
      "Epoch[2000000/3000000], loss: 0.000221\n",
      "Epoch[2100000/3000000], loss: 0.000216\n",
      "Epoch[2200000/3000000], loss: 0.000213\n",
      "Epoch[2300000/3000000], loss: 0.000209\n",
      "Epoch[2400000/3000000], loss: 0.000207\n",
      "Epoch[2500000/3000000], loss: 0.000206\n",
      "Epoch[2600000/3000000], loss: 0.000206\n",
      "Epoch[2700000/3000000], loss: 0.000206\n",
      "Epoch[2800000/3000000], loss: 0.000206\n",
      "Epoch[2900000/3000000], loss: 0.000206\n",
      "Epoch[3000000/3000000], loss: 0.000206\n"
     ]
    }
   ],
   "source": [
    "num_epochs = 2300000\n",
    "num_epochs = 3000000\n",
    "for epoch in range(num_epochs):\n",
    "    inputs = Variable(x_train)\n",
    "    target = Variable(y_train)\n",
    "\n",
    "    # forward\n",
    "    out = model(inputs)\n",
    "    loss = criterion(out, target)\n",
    "    # backward\n",
    "    optimizer.zero_grad()\n",
    "    loss.backward()\n",
    "    optimizer.step()\n",
    "\n",
    "    if (epoch+1) % 100000 == 0:\n",
    "        print('Epoch[{}/{}], loss: {:.6f}'\n",
    "              .format(epoch+1, num_epochs, loss.data[0]))"
   ]
  },
  {
   "cell_type": "code",
   "execution_count": 27,
   "metadata": {},
   "outputs": [
    {
     "name": "stdout",
     "output_type": "stream",
     "text": [
      "<type 'numpy.ndarray'>\n"
     ]
    },
    {
     "data": {
      "image/png": "[encoded data removed]",
      "text/plain": [
       "<matplotlib.figure.Figure at 0x7fb488bf8ed0>"
      ]
     },
     "metadata": {},
     "output_type": "display_data"
    }
   ],
   "source": [
    "from mpl_toolkits.mplot3d import Axes3D\n",
    "# model = LinearRegression()\n",
    "# model.load_state_dict(torch.load('./linear2.pth'))\n",
    "model.eval()\n",
    "predict = model(Variable(x_train))\n",
    "predict = predict.data.numpy()\n",
    "plt.plot(x_train.numpy(), y_train.numpy(), 'ro', label='Original data')\n",
    "plt.plot(x_train.numpy(), predict, label='Fitting Line')\n",
    "X = x_train.numpy()\n",
    "print(type(X[:, 0]))\n",
    "# fig = plt.figure()\n",
    "# ax = fig.add_subplot(111, projection='3d')\n",
    "# ax.scatter(x_train.numpy()[:, 0], x_train.numpy()[:, 1], zs=y_train.numpy(), zdir='y',c = 'r')\n",
    "# ax.scatter(x_train.numpy()[:, 0], x_train.numpy()[:, 1], zs=predict, zdir='y',c = 'b')\n",
    "plt.legend() \n",
    "plt.show()\n",
    "\n",
    "torch.save(model.state_dict(), './linear-1.pth')"
   ]
  },
  {
   "cell_type": "markdown",
   "metadata": {},
   "source": [
    "Predicting all values"
   ]
  },
  {
   "cell_type": "code",
   "execution_count": 23,
   "metadata": {},
   "outputs": [
    {
     "name": "stdout",
     "output_type": "stream",
     "text": [
      "[[0.1941803 ]\n",
      " [0.05404548]\n",
      " [0.01010506]\n",
      " ...\n",
      " [0.13170922]\n",
      " [0.15042716]\n",
      " [0.07486685]] \n",
      " 0.1784\n",
      " 0.0516\n",
      " 0.0134\n",
      "   ⋮    \n",
      " 0.1495\n",
      " 0.1480\n",
      " 0.0736\n",
      "[torch.FloatTensor of size 6000x1]\n",
      "\n",
      "[[5041677.5]\n",
      " [1908403. ]\n",
      " [ 925939. ]\n",
      " ...\n",
      " [3644886.5]\n",
      " [4063401. ]\n",
      " [2373947.8]]\n",
      "[[4687999.88920987]\n",
      " [1853000.03330037]\n",
      " [1000000.00998285]\n",
      " ...\n",
      " [4042000.09579957]\n",
      " [4009999.96368587]\n",
      " [2345999.92386252]]\n"
     ]
    }
   ],
   "source": [
    "print(predict, y_train)\n",
    "\n",
    "print(my_scaler.inverse_transform(predict))\n",
    "print(my_scaler.inverse_transform(y_train))"
   ]
  },
  {
   "cell_type": "code",
   "execution_count": 28,
   "metadata": {},
   "outputs": [
    {
     "name": "stdout",
     "output_type": "stream",
     "text": [
      "[[0.19867902]\n",
      " [0.05439389]\n",
      " [0.01536801]\n",
      " ...\n",
      " [0.13673224]\n",
      " [0.15055093]\n",
      " [0.06946263]] \n",
      " 0.1784\n",
      " 0.0516\n",
      " 0.0134\n",
      "   ⋮    \n",
      " 0.1495\n",
      " 0.1480\n",
      " 0.0736\n",
      "[torch.FloatTensor of size 6000x1]\n",
      "\n",
      "[[5142264. ]\n",
      " [1916193.1]\n",
      " [1043613.3]\n",
      " ...\n",
      " [3757196.2]\n",
      " [4066168.5]\n",
      " [2253115. ]]\n",
      "[[4687999.88920987]\n",
      " [1853000.03330037]\n",
      " [1000000.00998285]\n",
      " ...\n",
      " [4042000.09579957]\n",
      " [4009999.96368587]\n",
      " [2345999.92386252]]\n"
     ]
    }
   ],
   "source": [
    "print(predict, y_train)\n",
    "\n",
    "print(my_scaler.inverse_transform(predict))\n",
    "print(my_scaler.inverse_transform(y_train))"
   ]
  },
  {
   "cell_type": "markdown",
   "metadata": {},
   "source": [
    "Main Predicting of Estimated Cost"
   ]
  },
  {
   "cell_type": "code",
   "execution_count": 34,
   "metadata": {},
   "outputs": [
    {
     "name": "stdout",
     "output_type": "stream",
     "text": [
      "(3249, 1)\n",
      "(3249, 1)\n",
      "(3249, 1)\n",
      "[[1478642.6]\n",
      " [3847442.2]\n",
      " [4577612.5]\n",
      " ...\n",
      " [1903561.4]\n",
      " [2642156. ]\n",
      " [3297842.5]]\n"
     ]
    }
   ],
   "source": [
    "print(TEST_MAIN_DATA.shape)\n",
    "test_data = scaler.transform(TEST_MAIN_DATA)\n",
    "print(test_data.shape)\n",
    "\n",
    "main_predict = model(Variable(torch.FloatTensor(test_data)))\n",
    "predicted_test_data = main_predict.data.numpy()\n",
    "out_data = my_scaler.inverse_transform(predicted_test_data)\n",
    "print(out_data.shape)\n",
    "print(out_data)"
   ]
  },
  {
   "cell_type": "code",
   "execution_count": 36,
   "metadata": {},
   "outputs": [
    {
     "name": "stdout",
     "output_type": "stream",
     "text": [
      "<type 'numpy.ndarray'>\n",
      "(3249, 1)\n",
      "(3249, 1)\n",
      "(3249, 2)\n"
     ]
    }
   ],
   "source": [
    "print(type(out_data))\n",
    "n = np.arange(10000, 13249).reshape(-1,1)\n",
    "print(out_data.shape)\n",
    "print(n.shape)\n",
    "out = np.insert(out_data, 0, n[:, 0], axis=1)\n",
    "print(out.shape)"
   ]
  },
  {
   "cell_type": "code",
   "execution_count": 37,
   "metadata": {},
   "outputs": [],
   "source": [
    "df = pd.DataFrame (out, columns=['ID','ESTIM_COST'])\n",
    "\n",
    "filepath = 'output1.xlsx'\n",
    "\n",
    "df.to_excel(filepath, index=False)"
   ]
  }
 ],
 "metadata": {
  "kernelspec": {
   "display_name": "Python 2",
   "language": "python",
   "name": "python2"
  },
  "language_info": {
   "codemirror_mode": {
    "name": "ipython",
    "version": 2
   },
   "file_extension": ".py",
   "mimetype": "text/x-python",
   "name": "python",
   "nbconvert_exporter": "python",
   "pygments_lexer": "ipython2",
   "version": "2.7.14"
  }
 },
 "nbformat": 4,
 "nbformat_minor": 2
}
