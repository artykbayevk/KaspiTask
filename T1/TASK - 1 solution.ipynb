{
 "cells": [
  {
   "cell_type": "markdown",
   "metadata": {},
   "source": [
    "# KASPI BANK TASK 1 SOLUTION"
   ]
  },
  {
   "cell_type": "markdown",
   "metadata": {},
   "source": [
    "Importing all needed libraries"
   ]
  },
  {
   "cell_type": "code",
   "execution_count": 1,
   "metadata": {},
   "outputs": [],
   "source": [
    "import numpy as np\n",
    "import pandas as pd\n",
    "import matplotlib.pyplot as plt\n",
    "from sklearn.preprocessing import MinMaxScaler, StandardScaler"
   ]
  },
  {
   "cell_type": "code",
   "execution_count": 2,
   "metadata": {},
   "outputs": [],
   "source": [
    "file_name = 'task1.xlsx'\n",
    "xl = pd.ExcelFile(file_name)"
   ]
  },
  {
   "cell_type": "code",
   "execution_count": 3,
   "metadata": {},
   "outputs": [],
   "source": [
    "TRAIN_SHEET = xl.parse('TRAIN')\n",
    "TEST_SHEET = xl.parse('TEST')"
   ]
  },
  {
   "cell_type": "code",
   "execution_count": 4,
   "metadata": {},
   "outputs": [
    {
     "name": "stdout",
     "output_type": "stream",
     "text": [
      "(6000, 17)\n",
      "(3249, 16)\n",
      "   ID  YEAR VIN_1 VIN_2 VIN_3  VIN_15  VIN_16  VIN_17  ENGINE_VOLUME  \\\n",
      "0   0     9     J     M     Y     1.0     0.0     2.0            3.0   \n",
      "1   1    10     N     M     T     1.0     8.0     0.0            1.6   \n",
      "\n",
      "    FUEL_TYPE    BODY_TYPE    TYPE_OF_DRIVE INTERIOR_TYPE TRANSM_TYPE  \\\n",
      "0  Бензин-Газ  Внедорожник    Полный привод          КОЖА        АКПП   \n",
      "1      Бензин        Седан  Передний привод         ВЕЛЮР        МКПП   \n",
      "\n",
      "       AUTO_CONDITION     AVG_COST  ESTIM_COST  \n",
      "0  Удовлетворительное  5725925.926     4688000  \n",
      "1  Удовлетворительное  2211538.462     1853000  \n",
      "      ID  YEAR VIN_1 VIN_2 VIN_3  VIN_15  VIN_16  VIN_17  ENGINE_VOLUME  \\\n",
      "0  10000    13     J     M     Z     1.0     6.0     6.0            2.0   \n",
      "1  10001    10     J     T     M     1.0     6.0     4.0            2.4   \n",
      "\n",
      "  FUEL_TYPE  BODY_TYPE    TYPE_OF_DRIVE INTERIOR_TYPE TRANSM_TYPE  \\\n",
      "0    Бензин    Минивэн  Передний привод         ВЕЛЮР        АКПП   \n",
      "1    Бензин  Кроссовер    Полный привод         ВЕЛЮР        АКПП   \n",
      "\n",
      "       AUTO_CONDITION     AVG_COST  \n",
      "0  Удовлетворительное  1734883.721  \n",
      "1  Удовлетворительное  4315384.615  \n"
     ]
    }
   ],
   "source": [
    "print(TRAIN_SHEET.shape)\n",
    "print(TEST_SHEET.shape)\n",
    "print(TRAIN_SHEET.head(2))\n",
    "print(TEST_SHEET.head(2))"
   ]
  },
  {
   "cell_type": "code",
   "execution_count": 5,
   "metadata": {},
   "outputs": [
    {
     "name": "stdout",
     "output_type": "stream",
     "text": [
      "6000\n",
      "3249\n"
     ]
    }
   ],
   "source": [
    "trainLength = len(TRAIN_SHEET['ID'])\n",
    "testLength = len(TEST_SHEET['ID'])\n",
    "print(trainLength)\n",
    "print(testLength)"
   ]
  },
  {
   "cell_type": "code",
   "execution_count": 7,
   "metadata": {},
   "outputs": [
    {
     "name": "stdout",
     "output_type": "stream",
     "text": [
      "      ID  YEAR VIN_1 VIN_2 VIN_3  VIN_15  VIN_16  VIN_17  ENGINE_VOLUME  \\\n",
      "0  10000    13     J     M     Z     1.0     6.0     6.0            2.0   \n",
      "1  10001    10     J     T     M     1.0     6.0     4.0            2.4   \n",
      "2  10002     5     K     M     H     0.0     4.0     7.0            2.0   \n",
      "\n",
      "    FUEL_TYPE  BODY_TYPE    TYPE_OF_DRIVE    INTERIOR_TYPE TRANSM_TYPE  \\\n",
      "0      Бензин    Минивэн  Передний привод            ВЕЛЮР        АКПП   \n",
      "1      Бензин  Кроссовер    Полный привод            ВЕЛЮР        АКПП   \n",
      "2  Бензин-Газ  Кроссовер    Полный привод  КОМБИНИРОВАННЫЙ        АКПП   \n",
      "\n",
      "       AUTO_CONDITION     AVG_COST  ESTIM_COST  \n",
      "0  Удовлетворительное  1734883.721    0.922725  \n",
      "1  Удовлетворительное  4315384.615    0.030639  \n",
      "2  Удовлетворительное  5110810.811    1.412474  \n"
     ]
    }
   ],
   "source": [
    "TEST_SHEET['ESTIM_COST'] = pd.Series(np.random.randn(testLength), index=TEST_SHEET.index)\n",
    "print(TEST_SHEET.head(3))"
   ]
  },
  {
   "cell_type": "code",
   "execution_count": 8,
   "metadata": {},
   "outputs": [
    {
     "name": "stdout",
     "output_type": "stream",
     "text": [
      "   ID  YEAR VIN_1 VIN_2 VIN_3  VIN_15  VIN_16  VIN_17  ENGINE_VOLUME  \\\n",
      "0   0     9     J     M     Y     1.0     0.0     2.0            3.0   \n",
      "1   1    10     N     M     T     1.0     8.0     0.0            1.6   \n",
      "2   2    17     W     A     U     8.0     9.0     7.0            2.4   \n",
      "3   3     4     K     M     H     9.0     1.0     8.0            1.6   \n",
      "4   4    17     J     A     4     4.0     3.0     1.0            3.0   \n",
      "\n",
      "    FUEL_TYPE    BODY_TYPE    TYPE_OF_DRIVE INTERIOR_TYPE TRANSM_TYPE  \\\n",
      "0  Бензин-Газ  Внедорожник    Полный привод          КОЖА        АКПП   \n",
      "1      Бензин        Седан  Передний привод         ВЕЛЮР        МКПП   \n",
      "2      Бензин        Седан  Передний привод         ВЕЛЮР        АКПП   \n",
      "3      Бензин        Седан  Передний привод         ВЕЛЮР        АКПП   \n",
      "4      Бензин  Внедорожник    Полный привод          КОЖА        АКПП   \n",
      "\n",
      "       AUTO_CONDITION     AVG_COST  ESTIM_COST  \n",
      "0  Удовлетворительное  5725925.926   4688000.0  \n",
      "1  Удовлетворительное  2211538.462   1853000.0  \n",
      "2  Удовлетворительное  1260975.610   1000000.0  \n",
      "3            Отличное  3287777.778   3150000.0  \n",
      "4  Удовлетворительное  2028915.663   1603000.0  \n"
     ]
    }
   ],
   "source": [
    "MAIN_DATA = pd.concat([TRAIN_SHEET, TEST_SHEET], ignore_index=True)\n",
    "print(MAIN_DATA.head())"
   ]
  },
  {
   "cell_type": "code",
   "execution_count": 9,
   "metadata": {},
   "outputs": [],
   "source": [
    "MAIN_DATA[MAIN_DATA.select_dtypes(['object']).columns] = MAIN_DATA.select_dtypes(['object']).apply(lambda x: x.astype('category'))\n",
    "cat_columns = MAIN_DATA.select_dtypes(['category']).columns\n",
    "MAIN_DATA[cat_columns] = MAIN_DATA[cat_columns].apply(lambda x: x.cat.codes)\n",
    "DATA = MAIN_DATA.fillna(MAIN_DATA.mean())"
   ]
  },
  {
   "cell_type": "code",
   "execution_count": 10,
   "metadata": {},
   "outputs": [],
   "source": [
    "TRAIN_DATA = DATA[:(trainLength)]\n",
    "TRAIN_DATA = TRAIN_DATA.drop('ID', axis = True)\n",
    "\n",
    "TEST_DATA = DATA[trainLength:]\n",
    "TEST_MAIN_DATA = TEST_DATA[[\"AVG_COST\"]]"
   ]
  },
  {
   "cell_type": "code",
   "execution_count": 11,
   "metadata": {},
   "outputs": [
    {
     "name": "stdout",
     "output_type": "stream",
     "text": [
      "(6000, 16)\n",
      "(3249, 17)\n",
      "   YEAR  VIN_1  VIN_2  VIN_3  VIN_15  VIN_16  VIN_17  ENGINE_VOLUME  \\\n",
      "0     9     10     17     31     1.0     0.0     2.0            3.0   \n",
      "1    10     14     17     26     1.0     8.0     0.0            1.6   \n",
      "\n",
      "   FUEL_TYPE  BODY_TYPE  TYPE_OF_DRIVE  INTERIOR_TYPE  TRANSM_TYPE  \\\n",
      "0          1          0              2              1            0   \n",
      "1          0          4              1              0            1   \n",
      "\n",
      "   AUTO_CONDITION     AVG_COST  ESTIM_COST  \n",
      "0               1  5725925.926   4688000.0  \n",
      "1               1  2211538.462   1853000.0  \n",
      "         ID  YEAR  VIN_1  VIN_2  VIN_3  VIN_15  VIN_16  VIN_17  ENGINE_VOLUME  \\\n",
      "6000  10000    13     10     17     32     1.0     6.0     6.0            2.0   \n",
      "6001  10001    10     10     23     20     1.0     6.0     4.0            2.4   \n",
      "\n",
      "      FUEL_TYPE  BODY_TYPE  TYPE_OF_DRIVE  INTERIOR_TYPE  TRANSM_TYPE  \\\n",
      "6000          0          2              1              0            0   \n",
      "6001          0          1              2              0            0   \n",
      "\n",
      "      AUTO_CONDITION     AVG_COST  ESTIM_COST  \n",
      "6000               1  1734883.721    0.922725  \n",
      "6001               1  4315384.615    0.030639  \n"
     ]
    }
   ],
   "source": [
    "print(TRAIN_DATA.shape)\n",
    "print(TEST_DATA.shape)\n",
    "print(TRAIN_DATA.head(2))\n",
    "print(TEST_DATA.head(2))"
   ]
  },
  {
   "cell_type": "code",
   "execution_count": 12,
   "metadata": {},
   "outputs": [
    {
     "name": "stdout",
     "output_type": "stream",
     "text": [
      "(6000, 1)\n",
      "(6000, 1)\n"
     ]
    }
   ],
   "source": [
    "X_train = TRAIN_DATA[[\"AVG_COST\"]]\n",
    "Y_train = TRAIN_DATA[[\"ESTIM_COST\"]]\n",
    "scaler = MinMaxScaler()\n",
    "scaler.fit(X_train)\n",
    "my_scaler = MinMaxScaler()\n",
    "my_scaler.fit(Y_train)\n",
    "\n",
    "print(X_train.shape)\n",
    "print(Y_train.shape)"
   ]
  },
  {
   "cell_type": "code",
   "execution_count": 13,
   "metadata": {},
   "outputs": [],
   "source": [
    "# X_norm_train = (X_train - X_train.mean()) / (X_train.max() - X_train.min())\n",
    "# Y_norm_train = (Y_train - Y_train.mean()) / (Y_train.max() - Y_train.min())\n",
    "X_norm_train =  scaler.transform(X_train)\n",
    "Y_norm_train = my_scaler.transform(Y_train)"
   ]
  },
  {
   "cell_type": "code",
   "execution_count": 14,
   "metadata": {},
   "outputs": [],
   "source": [
    "from __future__ import print_function\n",
    "from itertools import count\n",
    "\n",
    "import torch\n",
    "from torch import nn\n",
    "import torch.autograd\n",
    "import torch.nn.functional as F\n",
    "from torch.autograd import Variable\n",
    "from torch import optim"
   ]
  },
  {
   "cell_type": "code",
   "execution_count": 15,
   "metadata": {},
   "outputs": [],
   "source": [
    "from sklearn.model_selection import train_test_split"
   ]
  },
  {
   "cell_type": "code",
   "execution_count": 22,
   "metadata": {},
   "outputs": [],
   "source": [
    "X_tr, X_ts, Y_tr, Y_ts = train_test_split(X_norm_train, Y_norm_train, test_size=0.3, random_state=42)\n",
    "\n",
    "x_train = torch.FloatTensor(X_tr)\n",
    "y_train = torch.FloatTensor(Y_tr)\n",
    "\n",
    "x_val = torch.FloatTensor(X_ts)\n",
    "y_val = torch.FloatTensor(Y_ts)"
   ]
  },
  {
   "cell_type": "code",
   "execution_count": 23,
   "metadata": {},
   "outputs": [],
   "source": [
    "# Linear Regression Model\n",
    "class LinearRegression(nn.Module):\n",
    "    def __init__(self):\n",
    "        super(LinearRegression, self).__init__()\n",
    "        self.linear = nn.Linear(1, 1)\n",
    "    def forward(self, x):\n",
    "        out = self.linear(x)\n",
    "        return out"
   ]
  },
  {
   "cell_type": "code",
   "execution_count": 24,
   "metadata": {},
   "outputs": [],
   "source": [
    "model = LinearRegression()\n",
    "criterion = nn.MSELoss()\n",
    "optimizer = optim.SGD(model.parameters(), lr=1e-5)"
   ]
  },
  {
   "cell_type": "code",
   "execution_count": 25,
   "metadata": {},
   "outputs": [
    {
     "name": "stdout",
     "output_type": "stream",
     "text": [
      "Epoch[100000/3000000], loss: 0.003623\n",
      "Epoch[200000/3000000], loss: 0.000825\n",
      "Epoch[300000/3000000], loss: 0.000751\n",
      "Epoch[400000/3000000], loss: 0.000724\n",
      "Epoch[500000/3000000], loss: 0.000698\n",
      "Epoch[600000/3000000], loss: 0.000673\n",
      "Epoch[700000/3000000], loss: 0.000649\n",
      "Epoch[800000/3000000], loss: 0.000625\n",
      "Epoch[900000/3000000], loss: 0.000602\n",
      "Epoch[1000000/3000000], loss: 0.000580\n",
      "Epoch[1100000/3000000], loss: 0.000558\n",
      "Epoch[1200000/3000000], loss: 0.000537\n",
      "Epoch[1300000/3000000], loss: 0.000517\n",
      "Epoch[1400000/3000000], loss: 0.000497\n",
      "Epoch[1500000/3000000], loss: 0.000478\n",
      "Epoch[1600000/3000000], loss: 0.000465\n",
      "Epoch[1700000/3000000], loss: 0.000460\n",
      "Epoch[1800000/3000000], loss: 0.000457\n",
      "Epoch[1900000/3000000], loss: 0.000455\n",
      "Epoch[2000000/3000000], loss: 0.000455\n",
      "Epoch[2100000/3000000], loss: 0.000455\n",
      "Epoch[2200000/3000000], loss: 0.000455\n",
      "Epoch[2300000/3000000], loss: 0.000455\n",
      "Epoch[2400000/3000000], loss: 0.000455\n",
      "Epoch[2500000/3000000], loss: 0.000455\n",
      "Epoch[2600000/3000000], loss: 0.000455\n",
      "Epoch[2700000/3000000], loss: 0.000455\n",
      "Epoch[2800000/3000000], loss: 0.000455\n",
      "Epoch[2900000/3000000], loss: 0.000455\n",
      "Epoch[3000000/3000000], loss: 0.000455\n"
     ]
    }
   ],
   "source": [
    "num_epochs = 3000000\n",
    "for epoch in range(num_epochs):\n",
    "    inputs = Variable(x_train)\n",
    "    target = Variable(y_train)\n",
    "\n",
    "    # forward\n",
    "    out = model(inputs)\n",
    "    loss = criterion(out, target)\n",
    "    # backward\n",
    "    optimizer.zero_grad()\n",
    "    loss.backward()\n",
    "    optimizer.step()\n",
    "\n",
    "    if (epoch+1) % 100000 == 0:\n",
    "        print('Epoch[{}/{}], loss: {:.6f}'\n",
    "              .format(epoch+1, num_epochs, loss.data[0]))"
   ]
  },
  {
   "cell_type": "code",
   "execution_count": 29,
   "metadata": {},
   "outputs": [
    {
     "data": {
      "image/png": "[encoded data removed]",
      "text/plain": [
       "<matplotlib.figure.Figure at 0x7faf735f5bd0>"
      ]
     },
     "metadata": {},
     "output_type": "display_data"
    }
   ],
   "source": [
    "from mpl_toolkits.mplot3d import Axes3D\n",
    "model = LinearRegression()\n",
    "model.load_state_dict(torch.load('./linear-1.pth'))\n",
    "model.eval()\n",
    "predict = model(Variable(x_val))\n",
    "predict = predict.data.numpy()\n",
    "plt.plot(x_val.numpy(), y_val.numpy(), 'ro', label='Original data')\n",
    "plt.plot(x_val.numpy(), predict, label='Fitting Line')\n",
    "\n",
    "\n",
    "\n",
    "# fig = plt.figure()\n",
    "# ax = fig.add_subplot(111, projection='3d')\n",
    "# ax.scatter(x_train.numpy()[:, 0], x_train.numpy()[:, 1], zs=y_train.numpy(), zdir='y',c = 'r')\n",
    "# ax.scatter(x_train.numpy()[:, 0], x_train.numpy()[:, 1], zs=predict, zdir='y',c = 'b')\n",
    "plt.legend() \n",
    "plt.show()\n",
    "\n",
    "# torch.save(model.state_dict(), './linear-1.pth')"
   ]
  },
  {
   "cell_type": "markdown",
   "metadata": {},
   "source": [
    "Predicting all values"
   ]
  },
  {
   "cell_type": "code",
   "execution_count": 28,
   "metadata": {},
   "outputs": [
    {
     "name": "stdout",
     "output_type": "stream",
     "text": [
      "[[0.06194643]\n",
      " [0.05146125]\n",
      " [0.15689763]\n",
      " ...\n",
      " [0.07768995]\n",
      " [0.08064052]\n",
      " [0.1578448 ]] \n",
      " 0.0671\n",
      " 0.0403\n",
      " 0.1830\n",
      "   ⋮    \n",
      " 0.0626\n",
      " 0.0716\n",
      " 0.1745\n",
      "[torch.FloatTensor of size 1800x1]\n",
      "\n",
      "[[2085060.4]\n",
      " [1850622. ]\n",
      " [4208074.5]\n",
      " ...\n",
      " [2437069.5]\n",
      " [2503041.2]\n",
      " [4229252. ]]\n",
      "[[2199999.94579703]\n",
      " [1599999.96747822]\n",
      " [4790999.96045232]\n",
      " ...\n",
      " [2098999.92445856]\n",
      " [2299999.94218349]\n",
      " [4600999.88402426]]\n"
     ]
    }
   ],
   "source": [
    "print(predict, y_val)\n",
    "\n",
    "print(my_scaler.inverse_transform(predict))\n",
    "print(my_scaler.inverse_transform(y_val))"
   ]
  },
  {
   "cell_type": "markdown",
   "metadata": {},
   "source": [
    "Main Predicting of Estimated Cost"
   ]
  },
  {
   "cell_type": "code",
   "execution_count": 30,
   "metadata": {},
   "outputs": [
    {
     "name": "stdout",
     "output_type": "stream",
     "text": [
      "(3249, 1)\n",
      "(3249, 1)\n",
      "(3249, 1)\n",
      "[[1766232.6]\n",
      " [3753872. ]\n",
      " [4366551.5]\n",
      " ...\n",
      " [2122778.2]\n",
      " [2742526.5]\n",
      " [3292707.5]]\n"
     ]
    }
   ],
   "source": [
    "print(TEST_MAIN_DATA.shape)\n",
    "test_data = scaler.transform(TEST_MAIN_DATA)\n",
    "print(test_data.shape)\n",
    "\n",
    "main_predict = model(Variable(torch.FloatTensor(test_data)))\n",
    "predicted_test_data = main_predict.data.numpy()\n",
    "out_data = my_scaler.inverse_transform(predicted_test_data)\n",
    "print(out_data.shape)\n",
    "print(out_data)"
   ]
  },
  {
   "cell_type": "code",
   "execution_count": 31,
   "metadata": {},
   "outputs": [
    {
     "name": "stdout",
     "output_type": "stream",
     "text": [
      "<type 'numpy.ndarray'>\n",
      "(3249, 1)\n",
      "(3249, 1)\n",
      "(3249, 2)\n"
     ]
    }
   ],
   "source": [
    "print(type(out_data))\n",
    "n = np.arange(10000, 13249).reshape(-1,1)\n",
    "print(out_data.shape)\n",
    "print(n.shape)\n",
    "out = np.insert(out_data, 0, n[:, 0], axis=1)\n",
    "print(out.shape)"
   ]
  },
  {
   "cell_type": "code",
   "execution_count": 32,
   "metadata": {},
   "outputs": [],
   "source": [
    "df = pd.DataFrame (out, columns=['ID','ESTIM_COST'])\n",
    "\n",
    "filepath = 'output-v2.xlsx'\n",
    "\n",
    "df.to_excel(filepath, index=False)"
   ]
  }
 ],
 "metadata": {
  "kernelspec": {
   "display_name": "Python 2",
   "language": "python",
   "name": "python2"
  },
  "language_info": {
   "codemirror_mode": {
    "name": "ipython",
    "version": 2
   },
   "file_extension": ".py",
   "mimetype": "text/x-python",
   "name": "python",
   "nbconvert_exporter": "python",
   "pygments_lexer": "ipython2",
   "version": "2.7.14"
  }
 },
 "nbformat": 4,
 "nbformat_minor": 2
}
