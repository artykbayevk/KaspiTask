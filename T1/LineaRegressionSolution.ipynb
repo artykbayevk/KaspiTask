{
 "cells": [
  {
   "cell_type": "code",
   "execution_count": 38,
   "metadata": {
    "collapsed": true
   },
   "outputs": [],
   "source": [
    "import pandas as pd\n",
    "import numpy as np\n",
    "\n",
    "from sklearn import preprocessing\n",
    "from sklearn.model_selection import train_test_split\n",
    "\n",
    "# ТУПАЯ МОДЕЛЬ ЛИНЕЙНОЙ РЕГРЕССИЙ\n",
    "from sklearn.linear_model import LinearRegression\n",
    "\n",
    "# Linear Regression, which works by Decision Tree Principals\n",
    "from sklearn.tree import DecisionTreeRegressor\n",
    "\n",
    "# Support Vector Machine Regressor, который по идее очень даже мощно работает\n",
    "from sklearn.svm import SVR\n",
    "\n",
    "\n",
    "#А теперь мы подгрузим самого мощного отморозка и героя вечера\n",
    "# На него вся надежда\n",
    "from sklearn.neural_network import MLPRegressor\n",
    "\n",
    "# ПРОСТО ПАРАМЕТРЫ ПО КОТОРЫМ МЫ БУДЕМ СУДИТЬ ХОРОШО ЛИ ИЛИ ПЛОХО РАБОТАЕТ НАША МОДЕЛЬКА\n",
    "from sklearn.metrics import mean_squared_error, r2_score\n",
    "\n",
    "# Просто для проверки модели для определенных частей полного датасета\n",
    "from sklearn.model_selection import cross_val_score\n",
    "\n",
    "\n",
    "# Теперь нужно закачать что то для tuning всех моделей\n",
    "# Мы примерно выбрали какие модельки будут работать\n",
    "# Осталось прогонять по моделям теперь,и только\n",
    "# Поможет нам мощный GridSearch\n",
    "from sklearn.model_selection import GridSearchCV\n"
   ]
  },
  {
   "cell_type": "code",
   "execution_count": null,
   "metadata": {},
   "outputs": [],
   "source": [
    "all_data = pd.ExcelFile('task1.xlsx')\n",
    "data = all_data.parse('TRAIN',index_col=\"ID\")\n",
    "print(data.shape)\n",
    "print(data.head())"
   ]
  },
  {
   "cell_type": "code",
   "execution_count": null,
   "metadata": {
    "collapsed": true
   },
   "outputs": [],
   "source": [
    "data[data.select_dtypes(['object']).columns] = data.select_dtypes(['object']).apply(lambda x: x.astype('category'))\n",
    "cat_columns = data.select_dtypes(['category']).columns\n",
    "data[cat_columns] = data[cat_columns].apply(lambda x: x.cat.codes)\n",
    "data = data.fillna(data.mean(), inplace = True)"
   ]
  },
  {
   "cell_type": "code",
   "execution_count": null,
   "metadata": {
    "scrolled": false,
    "slideshow": {
     "slide_type": "notes"
    },
    "tags": [
     "Для",
     "выбора",
     "одного",
     "из",
     "видов",
     "нормализации"
    ]
   },
   "outputs": [],
   "source": [
    "# Выбери только одну\n",
    "# mean normalization\n",
    "dataframe_main=(data-data.mean())/data.std()\n",
    "# min-max normalization\n",
    "dataframe_main=(data-data.min())/(data.max()-data.min())\n",
    "print(dataframe_main)"
   ]
  },
  {
   "cell_type": "code",
   "execution_count": null,
   "metadata": {},
   "outputs": [],
   "source": [
    "train_data = data[:6000]\n",
    "test_data = data[6000:]\n",
    "print(train_data.tail())\n",
    "print(test_data.head())"
   ]
  },
  {
   "cell_type": "code",
   "execution_count": null,
   "metadata": {},
   "outputs": [],
   "source": [
    "test_data = test_data.drop('ESTIM_COST', axis=1)\n",
    "print(test_data.head())"
   ]
  },
  {
   "cell_type": "code",
   "execution_count": null,
   "metadata": {
    "collapsed": true
   },
   "outputs": [],
   "source": [
    "# Здесь просто берем и ебашим весь наш трейнинг датасет в отдельные переменные как X и Y\n",
    "# TRAIN_VAL название по той причине, потому что для проверки модели мы будем фиттинг делать на трейн парт\n",
    "# а testing будем делать на вал парт\n",
    "# ты это знаешь,уеба\n",
    "\n",
    "# Х ТЕСТ для того чтобы, когда моделька будет готова мы просто возьмем и сделаем ебаный предикт и все\n",
    "# МАЛ епт\n",
    "Y_TRAIN_VAL = train_data['ESTIM_COST'].as_matrix()\n",
    "X_TRAIN_VAL = train_data.drop('ESTIM_COST',axis = 1).as_matrix()\n",
    "X_TEST = test_data.as_matrix()"
   ]
  },
  {
   "cell_type": "code",
   "execution_count": null,
   "metadata": {},
   "outputs": [],
   "source": [
    "# ТУТ МЫ ПРОСТО ЕБАНУЛИ НА ПАРАМЕТРЫ И ТАРГЕТЫ. \n",
    "# TRAIN PART - FOR TRAINING MODEL\n",
    "# VALIDATION PART - FOR TESTING MODEL IN TUNING PROCESS\n",
    "# ПОВТОРИЛ ДЛЯ ТЕБЯ УЕБКА\n",
    "feature_train, feature_val, target_train, target_val = train_test_split( X_TRAIN_VAL,Y_TRAIN_VAL, test_size=0.30)\n",
    "print(feature_train.shape)\n",
    "print(feature_val.shape)\n",
    "print(target_train.shape)\n",
    "print(target_val.shape)\n"
   ]
  },
  {
   "cell_type": "code",
   "execution_count": null,
   "metadata": {},
   "outputs": [],
   "source": [
    "# LINEAR REGRESSION MODEL\n",
    "lrm = LinearRegression()\n",
    "lrm.fit(feature_train, target_train)\n",
    "target_predicted = lrm.predict(feature_val)\n",
    "# Это короче какой то score, который показывает на сколько хорошо мы зафитили и запредиктили данные:\n",
    "# потом посмотрим что до как\n",
    "# http://scikit-learn.org/stable/modules/generated/sklearn.linear_model.LinearRegression.html#sklearn.linear_model.LinearRegression.score\n",
    "# по этой ссылке пойдешь нахуй короче, потом там посмотришь что за брехня\n",
    "print('This score show the main accuracy for linear regression {}\\n'.format(lrm.score(feature_val,target_val)))\n",
    "\n",
    "\n",
    "# The coefficients - это короче те ебаные коеф.y = a0 + a1*x1 + a2 * x2 и тд\n",
    "print('Coefficients: {} \\n'.format(lrm.coef_))\n",
    "print('Intercept: {} \\n'.format(lrm.intercept_))\n",
    "\n",
    "# The mean squared error - че то он пиздец большой бля, хуй его что то докак\n",
    "print(\"Root Mean squared error: %.2f\"\n",
    "      % np.sqrt(mean_squared_error(target_val, target_predicted)))\n",
    "# Explained variance score: 1 is perfect prediction\n",
    "print('Variance score: %.2f' % r2_score(target_val, target_predicted))"
   ]
  },
  {
   "cell_type": "code",
   "execution_count": 41,
   "metadata": {},
   "outputs": [
    {
     "name": "stdout",
     "output_type": "stream",
     "text": [
      "Score Decision Tree Regressor:0.9650560397702651\n",
      "\n",
      "Cross validation score: [ 0.95360587  0.96504099  0.96903814  0.95806519  0.97864738  0.95173875\n",
      "  0.96583784  0.96614817  0.97517609  0.94360373  0.95806305  0.9040648\n",
      "  0.9681612   0.96140223  0.96222641  0.93247561  0.9775708   0.97262666\n",
      "  0.95473781  0.95080556] \n",
      "\n"
     ]
    }
   ],
   "source": [
    "dtr =  DecisionTreeRegressor()\n",
    "dtr.fit(feature_train, target_train)\n",
    "# dtr_target_predicted = dtr.predict(feature_val)\n",
    "print(\"Score Decision Tree Regressor:{}\\n\".format(dtr.score(feature_val,target_val)))\n",
    "print(\"Cross validation score: {} \\n\".format(cross_val_score(dtr, X_TRAIN_VAL, Y_TRAIN_VAL, cv=20)))"
   ]
  },
  {
   "cell_type": "code",
   "execution_count": null,
   "metadata": {},
   "outputs": [],
   "source": [
    "svr = SVR()\n",
    "svr.fit(feature_train, target_train)\n",
    "# svr_target_predicted = svr.predict(feature_val)\n",
    "print(\"Score: {} \\n\".format(svr.score(feature_val,target_val)))\n",
    "print(\"Cross Val Score: {} \\n\".format(cross_val_score(svr,  X_TRAIN_VAL, Y_TRAIN_VAL, cv=20)))\n",
    "# И того мы просто понимаем что этот алгоритм просто гавно для нашего датасета\n",
    "# И мы просто посылаем его нахер"
   ]
  },
  {
   "cell_type": "code",
   "execution_count": null,
   "metadata": {},
   "outputs": [],
   "source": [
    "# Ал енды\n",
    "# Мы посмотрим как будет работать наш любимый алгоритм, по имени MLPRegressor\n",
    "# Наконец то нейронные сети, сучки\n",
    "mlpr = MLPRegressor()\n",
    "mlpr.fit(feature_train, target_train)\n",
    "print(\"Score: {} \\n\".format(mlpr.score(feature_val,target_val)))\n",
    "print(\"Cross Val Score: {} \\n\".format(cross_val_score(mlpr,  X_TRAIN_VAL, Y_TRAIN_VAL, cv=20)))"
   ]
  },
  {
   "cell_type": "code",
   "execution_count": 39,
   "metadata": {},
   "outputs": [
    {
     "name": "stdout",
     "output_type": "stream",
     "text": [
      "0.963645199036\n",
      "{'criterion': 'friedman_mse', 'presort': True, 'random_state': None, 'splitter': 'random'}\n"
     ]
    }
   ],
   "source": [
    "dtr_parameters = [{'criterion':['mse','friedman_mse','mae'], \n",
    "                   'splitter':['random','best'],\n",
    "                   'random_state':[5,10,None],\n",
    "                   'presort':[True, False]}]\n",
    "dtr_tuned_model = GridSearchCV(DecisionTreeRegressor(),dtr_parameters,cv = 20)\n",
    "dtr_tuned_model.fit(X_TRAIN_VAL, Y_TRAIN_VAL)\n",
    "print(dtr_tuned_model.best_score_)\n",
    "print(dtr_tuned_model.best_params_)"
   ]
  },
  {
   "cell_type": "code",
   "execution_count": null,
   "metadata": {
    "collapsed": true
   },
   "outputs": [],
   "source": []
  }
 ],
 "metadata": {
  "kernelspec": {
   "display_name": "Python 2",
   "language": "python",
   "name": "python2"
  },
  "language_info": {
   "codemirror_mode": {
    "name": "ipython",
    "version": 2
   },
   "file_extension": ".py",
   "mimetype": "text/x-python",
   "name": "python",
   "nbconvert_exporter": "python",
   "pygments_lexer": "ipython2",
   "version": "2.7.14"
  }
 },
 "nbformat": 4,
 "nbformat_minor": 2
}
